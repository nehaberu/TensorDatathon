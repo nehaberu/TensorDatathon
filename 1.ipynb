{
 "cells": [
  {
   "cell_type": "markdown",
   "metadata": {},
   "source": [
    "importing libraries"
   ]
  },
  {
   "cell_type": "code",
   "execution_count": 1,
   "metadata": {},
   "outputs": [],
   "source": [
    "import pandas as pd \n",
    "import os"
   ]
  },
  {
   "cell_type": "code",
   "execution_count": 2,
   "metadata": {},
   "outputs": [
    {
     "data": {
      "text/plain": [
       "'C:\\\\Users\\\\Neha\\\\AppData\\\\Local\\\\Programs\\\\Python\\\\Python37-32\\\\Scripts'"
      ]
     },
     "execution_count": 2,
     "metadata": {},
     "output_type": "execute_result"
    }
   ],
   "source": [
    "pwd"
   ]
  },
  {
   "cell_type": "markdown",
   "metadata": {},
   "source": [
    "reading the dattset"
   ]
  },
  {
   "cell_type": "code",
   "execution_count": 3,
   "metadata": {},
   "outputs": [
    {
     "data": {
      "text/html": [
       "<div>\n",
       "<style scoped>\n",
       "    .dataframe tbody tr th:only-of-type {\n",
       "        vertical-align: middle;\n",
       "    }\n",
       "\n",
       "    .dataframe tbody tr th {\n",
       "        vertical-align: top;\n",
       "    }\n",
       "\n",
       "    .dataframe thead th {\n",
       "        text-align: right;\n",
       "    }\n",
       "</style>\n",
       "<table border=\"1\" class=\"dataframe\">\n",
       "  <thead>\n",
       "    <tr style=\"text-align: right;\">\n",
       "      <th></th>\n",
       "      <th>ID</th>\n",
       "      <th>Case Number</th>\n",
       "      <th>Date</th>\n",
       "      <th>Block</th>\n",
       "      <th>IUCR</th>\n",
       "      <th>Primary Type</th>\n",
       "      <th>Description</th>\n",
       "      <th>Location Description</th>\n",
       "      <th>Arrest</th>\n",
       "      <th>Domestic</th>\n",
       "      <th>Beat</th>\n",
       "      <th>District</th>\n",
       "      <th>Ward</th>\n",
       "      <th>Community Area</th>\n",
       "      <th>FBI Code</th>\n",
       "      <th>Latitude</th>\n",
       "      <th>Longitude</th>\n",
       "    </tr>\n",
       "  </thead>\n",
       "  <tbody>\n",
       "    <tr>\n",
       "      <th>0</th>\n",
       "      <td>9446824</td>\n",
       "      <td>HX100141</td>\n",
       "      <td>01/01/2014 02:00:00 AM</td>\n",
       "      <td>0000X W ILLINOIS ST</td>\n",
       "      <td>0460</td>\n",
       "      <td>BATTERY</td>\n",
       "      <td>SIMPLE</td>\n",
       "      <td>STREET</td>\n",
       "      <td>False</td>\n",
       "      <td>False</td>\n",
       "      <td>1831</td>\n",
       "      <td>18</td>\n",
       "      <td>42.0</td>\n",
       "      <td>8.0</td>\n",
       "      <td>08B</td>\n",
       "      <td>41.890828</td>\n",
       "      <td>-87.630235</td>\n",
       "    </tr>\n",
       "    <tr>\n",
       "      <th>1</th>\n",
       "      <td>9446748</td>\n",
       "      <td>HX100020</td>\n",
       "      <td>01/01/2014 12:00:00 AM</td>\n",
       "      <td>006XX N DEARBORN ST</td>\n",
       "      <td>0890</td>\n",
       "      <td>THEFT</td>\n",
       "      <td>FROM BUILDING</td>\n",
       "      <td>BAR OR TAVERN</td>\n",
       "      <td>False</td>\n",
       "      <td>False</td>\n",
       "      <td>1832</td>\n",
       "      <td>18</td>\n",
       "      <td>42.0</td>\n",
       "      <td>8.0</td>\n",
       "      <td>06</td>\n",
       "      <td>41.893542</td>\n",
       "      <td>-87.629702</td>\n",
       "    </tr>\n",
       "    <tr>\n",
       "      <th>2</th>\n",
       "      <td>9446758</td>\n",
       "      <td>HX100030</td>\n",
       "      <td>01/01/2014 12:30:00 AM</td>\n",
       "      <td>052XX W RACE AVE</td>\n",
       "      <td>1310</td>\n",
       "      <td>CRIMINAL DAMAGE</td>\n",
       "      <td>TO PROPERTY</td>\n",
       "      <td>APARTMENT</td>\n",
       "      <td>False</td>\n",
       "      <td>False</td>\n",
       "      <td>1523</td>\n",
       "      <td>15</td>\n",
       "      <td>28.0</td>\n",
       "      <td>25.0</td>\n",
       "      <td>14</td>\n",
       "      <td>41.890046</td>\n",
       "      <td>-87.756333</td>\n",
       "    </tr>\n",
       "    <tr>\n",
       "      <th>3</th>\n",
       "      <td>9446760</td>\n",
       "      <td>HX100027</td>\n",
       "      <td>01/01/2014 12:30:00 AM</td>\n",
       "      <td>053XX W WELLINGTON AVE</td>\n",
       "      <td>0460</td>\n",
       "      <td>BATTERY</td>\n",
       "      <td>SIMPLE</td>\n",
       "      <td>APARTMENT</td>\n",
       "      <td>True</td>\n",
       "      <td>False</td>\n",
       "      <td>2514</td>\n",
       "      <td>25</td>\n",
       "      <td>31.0</td>\n",
       "      <td>19.0</td>\n",
       "      <td>08B</td>\n",
       "      <td>41.935011</td>\n",
       "      <td>-87.759739</td>\n",
       "    </tr>\n",
       "    <tr>\n",
       "      <th>4</th>\n",
       "      <td>9446764</td>\n",
       "      <td>HX100054</td>\n",
       "      <td>01/01/2014 12:10:00 AM</td>\n",
       "      <td>014XX W LEXINGTON ST</td>\n",
       "      <td>0460</td>\n",
       "      <td>BATTERY</td>\n",
       "      <td>SIMPLE</td>\n",
       "      <td>STREET</td>\n",
       "      <td>False</td>\n",
       "      <td>False</td>\n",
       "      <td>1231</td>\n",
       "      <td>12</td>\n",
       "      <td>25.0</td>\n",
       "      <td>28.0</td>\n",
       "      <td>08B</td>\n",
       "      <td>41.872509</td>\n",
       "      <td>-87.663069</td>\n",
       "    </tr>\n",
       "  </tbody>\n",
       "</table>\n",
       "</div>"
      ],
      "text/plain": [
       "        ID Case Number                    Date                   Block  IUCR  \\\n",
       "0  9446824    HX100141  01/01/2014 02:00:00 AM     0000X W ILLINOIS ST  0460   \n",
       "1  9446748    HX100020  01/01/2014 12:00:00 AM     006XX N DEARBORN ST  0890   \n",
       "2  9446758    HX100030  01/01/2014 12:30:00 AM        052XX W RACE AVE  1310   \n",
       "3  9446760    HX100027  01/01/2014 12:30:00 AM  053XX W WELLINGTON AVE  0460   \n",
       "4  9446764    HX100054  01/01/2014 12:10:00 AM    014XX W LEXINGTON ST  0460   \n",
       "\n",
       "      Primary Type    Description Location Description  Arrest  Domestic  \\\n",
       "0          BATTERY         SIMPLE               STREET   False     False   \n",
       "1            THEFT  FROM BUILDING        BAR OR TAVERN   False     False   \n",
       "2  CRIMINAL DAMAGE    TO PROPERTY            APARTMENT   False     False   \n",
       "3          BATTERY         SIMPLE            APARTMENT    True     False   \n",
       "4          BATTERY         SIMPLE               STREET   False     False   \n",
       "\n",
       "   Beat  District  Ward  Community Area FBI Code   Latitude  Longitude  \n",
       "0  1831        18  42.0             8.0      08B  41.890828 -87.630235  \n",
       "1  1832        18  42.0             8.0       06  41.893542 -87.629702  \n",
       "2  1523        15  28.0            25.0       14  41.890046 -87.756333  \n",
       "3  2514        25  31.0            19.0      08B  41.935011 -87.759739  \n",
       "4  1231        12  25.0            28.0      08B  41.872509 -87.663069  "
      ]
     },
     "execution_count": 3,
     "metadata": {},
     "output_type": "execute_result"
    }
   ],
   "source": [
    "data=pd.read_csv(r\"C:\\Users\\Neha\\Desktop\\crimes.csv\")\n",
    "data.head()"
   ]
  },
  {
   "cell_type": "markdown",
   "metadata": {},
   "source": [
    "Here, we are finding if any columns in the dataset are null"
   ]
  },
  {
   "cell_type": "code",
   "execution_count": 4,
   "metadata": {},
   "outputs": [
    {
     "data": {
      "text/plain": [
       "True"
      ]
     },
     "execution_count": 4,
     "metadata": {},
     "output_type": "execute_result"
    }
   ],
   "source": [
    "any(data.isnull())"
   ]
  },
  {
   "cell_type": "code",
   "execution_count": 5,
   "metadata": {},
   "outputs": [
    {
     "data": {
      "text/plain": [
       "ID                         0\n",
       "Case Number                0\n",
       "Date                       0\n",
       "Block                      0\n",
       "IUCR                       0\n",
       "Primary Type               0\n",
       "Description                0\n",
       "Location Description     176\n",
       "Arrest                     0\n",
       "Domestic                   0\n",
       "Beat                       0\n",
       "District                   0\n",
       "Ward                       2\n",
       "Community Area             1\n",
       "FBI Code                   0\n",
       "Latitude                4959\n",
       "Longitude               4959\n",
       "dtype: int64"
      ]
     },
     "execution_count": 5,
     "metadata": {},
     "output_type": "execute_result"
    }
   ],
   "source": [
    "data.isnull().sum()"
   ]
  },
  {
   "cell_type": "code",
   "execution_count": 6,
   "metadata": {},
   "outputs": [
    {
     "data": {
      "text/plain": [
       "(274423, 17)"
      ]
     },
     "execution_count": 6,
     "metadata": {},
     "output_type": "execute_result"
    }
   ],
   "source": [
    "data.shape"
   ]
  },
  {
   "cell_type": "markdown",
   "metadata": {},
   "source": [
    "We are dropping the latitude and longitude columns as they are not very usefull "
   ]
  },
  {
   "cell_type": "code",
   "execution_count": 7,
   "metadata": {},
   "outputs": [],
   "source": [
    "data.drop(\"Latitude\", axis=1 , inplace=True)"
   ]
  },
  {
   "cell_type": "code",
   "execution_count": 8,
   "metadata": {},
   "outputs": [
    {
     "data": {
      "text/html": [
       "<div>\n",
       "<style scoped>\n",
       "    .dataframe tbody tr th:only-of-type {\n",
       "        vertical-align: middle;\n",
       "    }\n",
       "\n",
       "    .dataframe tbody tr th {\n",
       "        vertical-align: top;\n",
       "    }\n",
       "\n",
       "    .dataframe thead th {\n",
       "        text-align: right;\n",
       "    }\n",
       "</style>\n",
       "<table border=\"1\" class=\"dataframe\">\n",
       "  <thead>\n",
       "    <tr style=\"text-align: right;\">\n",
       "      <th></th>\n",
       "      <th>ID</th>\n",
       "      <th>Case Number</th>\n",
       "      <th>Date</th>\n",
       "      <th>Block</th>\n",
       "      <th>IUCR</th>\n",
       "      <th>Primary Type</th>\n",
       "      <th>Description</th>\n",
       "      <th>Location Description</th>\n",
       "      <th>Arrest</th>\n",
       "      <th>Domestic</th>\n",
       "      <th>Beat</th>\n",
       "      <th>District</th>\n",
       "      <th>Ward</th>\n",
       "      <th>Community Area</th>\n",
       "      <th>FBI Code</th>\n",
       "      <th>Longitude</th>\n",
       "    </tr>\n",
       "  </thead>\n",
       "  <tbody>\n",
       "    <tr>\n",
       "      <th>0</th>\n",
       "      <td>9446824</td>\n",
       "      <td>HX100141</td>\n",
       "      <td>01/01/2014 02:00:00 AM</td>\n",
       "      <td>0000X W ILLINOIS ST</td>\n",
       "      <td>0460</td>\n",
       "      <td>BATTERY</td>\n",
       "      <td>SIMPLE</td>\n",
       "      <td>STREET</td>\n",
       "      <td>False</td>\n",
       "      <td>False</td>\n",
       "      <td>1831</td>\n",
       "      <td>18</td>\n",
       "      <td>42.0</td>\n",
       "      <td>8.0</td>\n",
       "      <td>08B</td>\n",
       "      <td>-87.630235</td>\n",
       "    </tr>\n",
       "    <tr>\n",
       "      <th>1</th>\n",
       "      <td>9446748</td>\n",
       "      <td>HX100020</td>\n",
       "      <td>01/01/2014 12:00:00 AM</td>\n",
       "      <td>006XX N DEARBORN ST</td>\n",
       "      <td>0890</td>\n",
       "      <td>THEFT</td>\n",
       "      <td>FROM BUILDING</td>\n",
       "      <td>BAR OR TAVERN</td>\n",
       "      <td>False</td>\n",
       "      <td>False</td>\n",
       "      <td>1832</td>\n",
       "      <td>18</td>\n",
       "      <td>42.0</td>\n",
       "      <td>8.0</td>\n",
       "      <td>06</td>\n",
       "      <td>-87.629702</td>\n",
       "    </tr>\n",
       "    <tr>\n",
       "      <th>2</th>\n",
       "      <td>9446758</td>\n",
       "      <td>HX100030</td>\n",
       "      <td>01/01/2014 12:30:00 AM</td>\n",
       "      <td>052XX W RACE AVE</td>\n",
       "      <td>1310</td>\n",
       "      <td>CRIMINAL DAMAGE</td>\n",
       "      <td>TO PROPERTY</td>\n",
       "      <td>APARTMENT</td>\n",
       "      <td>False</td>\n",
       "      <td>False</td>\n",
       "      <td>1523</td>\n",
       "      <td>15</td>\n",
       "      <td>28.0</td>\n",
       "      <td>25.0</td>\n",
       "      <td>14</td>\n",
       "      <td>-87.756333</td>\n",
       "    </tr>\n",
       "    <tr>\n",
       "      <th>3</th>\n",
       "      <td>9446760</td>\n",
       "      <td>HX100027</td>\n",
       "      <td>01/01/2014 12:30:00 AM</td>\n",
       "      <td>053XX W WELLINGTON AVE</td>\n",
       "      <td>0460</td>\n",
       "      <td>BATTERY</td>\n",
       "      <td>SIMPLE</td>\n",
       "      <td>APARTMENT</td>\n",
       "      <td>True</td>\n",
       "      <td>False</td>\n",
       "      <td>2514</td>\n",
       "      <td>25</td>\n",
       "      <td>31.0</td>\n",
       "      <td>19.0</td>\n",
       "      <td>08B</td>\n",
       "      <td>-87.759739</td>\n",
       "    </tr>\n",
       "    <tr>\n",
       "      <th>4</th>\n",
       "      <td>9446764</td>\n",
       "      <td>HX100054</td>\n",
       "      <td>01/01/2014 12:10:00 AM</td>\n",
       "      <td>014XX W LEXINGTON ST</td>\n",
       "      <td>0460</td>\n",
       "      <td>BATTERY</td>\n",
       "      <td>SIMPLE</td>\n",
       "      <td>STREET</td>\n",
       "      <td>False</td>\n",
       "      <td>False</td>\n",
       "      <td>1231</td>\n",
       "      <td>12</td>\n",
       "      <td>25.0</td>\n",
       "      <td>28.0</td>\n",
       "      <td>08B</td>\n",
       "      <td>-87.663069</td>\n",
       "    </tr>\n",
       "  </tbody>\n",
       "</table>\n",
       "</div>"
      ],
      "text/plain": [
       "        ID Case Number                    Date                   Block  IUCR  \\\n",
       "0  9446824    HX100141  01/01/2014 02:00:00 AM     0000X W ILLINOIS ST  0460   \n",
       "1  9446748    HX100020  01/01/2014 12:00:00 AM     006XX N DEARBORN ST  0890   \n",
       "2  9446758    HX100030  01/01/2014 12:30:00 AM        052XX W RACE AVE  1310   \n",
       "3  9446760    HX100027  01/01/2014 12:30:00 AM  053XX W WELLINGTON AVE  0460   \n",
       "4  9446764    HX100054  01/01/2014 12:10:00 AM    014XX W LEXINGTON ST  0460   \n",
       "\n",
       "      Primary Type    Description Location Description  Arrest  Domestic  \\\n",
       "0          BATTERY         SIMPLE               STREET   False     False   \n",
       "1            THEFT  FROM BUILDING        BAR OR TAVERN   False     False   \n",
       "2  CRIMINAL DAMAGE    TO PROPERTY            APARTMENT   False     False   \n",
       "3          BATTERY         SIMPLE            APARTMENT    True     False   \n",
       "4          BATTERY         SIMPLE               STREET   False     False   \n",
       "\n",
       "   Beat  District  Ward  Community Area FBI Code  Longitude  \n",
       "0  1831        18  42.0             8.0      08B -87.630235  \n",
       "1  1832        18  42.0             8.0       06 -87.629702  \n",
       "2  1523        15  28.0            25.0       14 -87.756333  \n",
       "3  2514        25  31.0            19.0      08B -87.759739  \n",
       "4  1231        12  25.0            28.0      08B -87.663069  "
      ]
     },
     "execution_count": 8,
     "metadata": {},
     "output_type": "execute_result"
    }
   ],
   "source": [
    "data.head()"
   ]
  },
  {
   "cell_type": "code",
   "execution_count": 9,
   "metadata": {},
   "outputs": [],
   "source": [
    "data.drop(\"Longitude\", axis=1 , inplace=True)"
   ]
  },
  {
   "cell_type": "code",
   "execution_count": 10,
   "metadata": {},
   "outputs": [
    {
     "data": {
      "text/html": [
       "<div>\n",
       "<style scoped>\n",
       "    .dataframe tbody tr th:only-of-type {\n",
       "        vertical-align: middle;\n",
       "    }\n",
       "\n",
       "    .dataframe tbody tr th {\n",
       "        vertical-align: top;\n",
       "    }\n",
       "\n",
       "    .dataframe thead th {\n",
       "        text-align: right;\n",
       "    }\n",
       "</style>\n",
       "<table border=\"1\" class=\"dataframe\">\n",
       "  <thead>\n",
       "    <tr style=\"text-align: right;\">\n",
       "      <th></th>\n",
       "      <th>ID</th>\n",
       "      <th>Case Number</th>\n",
       "      <th>Date</th>\n",
       "      <th>Block</th>\n",
       "      <th>IUCR</th>\n",
       "      <th>Primary Type</th>\n",
       "      <th>Description</th>\n",
       "      <th>Location Description</th>\n",
       "      <th>Arrest</th>\n",
       "      <th>Domestic</th>\n",
       "      <th>Beat</th>\n",
       "      <th>District</th>\n",
       "      <th>Ward</th>\n",
       "      <th>Community Area</th>\n",
       "      <th>FBI Code</th>\n",
       "    </tr>\n",
       "  </thead>\n",
       "  <tbody>\n",
       "    <tr>\n",
       "      <th>0</th>\n",
       "      <td>9446824</td>\n",
       "      <td>HX100141</td>\n",
       "      <td>01/01/2014 02:00:00 AM</td>\n",
       "      <td>0000X W ILLINOIS ST</td>\n",
       "      <td>0460</td>\n",
       "      <td>BATTERY</td>\n",
       "      <td>SIMPLE</td>\n",
       "      <td>STREET</td>\n",
       "      <td>False</td>\n",
       "      <td>False</td>\n",
       "      <td>1831</td>\n",
       "      <td>18</td>\n",
       "      <td>42.0</td>\n",
       "      <td>8.0</td>\n",
       "      <td>08B</td>\n",
       "    </tr>\n",
       "    <tr>\n",
       "      <th>1</th>\n",
       "      <td>9446748</td>\n",
       "      <td>HX100020</td>\n",
       "      <td>01/01/2014 12:00:00 AM</td>\n",
       "      <td>006XX N DEARBORN ST</td>\n",
       "      <td>0890</td>\n",
       "      <td>THEFT</td>\n",
       "      <td>FROM BUILDING</td>\n",
       "      <td>BAR OR TAVERN</td>\n",
       "      <td>False</td>\n",
       "      <td>False</td>\n",
       "      <td>1832</td>\n",
       "      <td>18</td>\n",
       "      <td>42.0</td>\n",
       "      <td>8.0</td>\n",
       "      <td>06</td>\n",
       "    </tr>\n",
       "    <tr>\n",
       "      <th>2</th>\n",
       "      <td>9446758</td>\n",
       "      <td>HX100030</td>\n",
       "      <td>01/01/2014 12:30:00 AM</td>\n",
       "      <td>052XX W RACE AVE</td>\n",
       "      <td>1310</td>\n",
       "      <td>CRIMINAL DAMAGE</td>\n",
       "      <td>TO PROPERTY</td>\n",
       "      <td>APARTMENT</td>\n",
       "      <td>False</td>\n",
       "      <td>False</td>\n",
       "      <td>1523</td>\n",
       "      <td>15</td>\n",
       "      <td>28.0</td>\n",
       "      <td>25.0</td>\n",
       "      <td>14</td>\n",
       "    </tr>\n",
       "    <tr>\n",
       "      <th>3</th>\n",
       "      <td>9446760</td>\n",
       "      <td>HX100027</td>\n",
       "      <td>01/01/2014 12:30:00 AM</td>\n",
       "      <td>053XX W WELLINGTON AVE</td>\n",
       "      <td>0460</td>\n",
       "      <td>BATTERY</td>\n",
       "      <td>SIMPLE</td>\n",
       "      <td>APARTMENT</td>\n",
       "      <td>True</td>\n",
       "      <td>False</td>\n",
       "      <td>2514</td>\n",
       "      <td>25</td>\n",
       "      <td>31.0</td>\n",
       "      <td>19.0</td>\n",
       "      <td>08B</td>\n",
       "    </tr>\n",
       "    <tr>\n",
       "      <th>4</th>\n",
       "      <td>9446764</td>\n",
       "      <td>HX100054</td>\n",
       "      <td>01/01/2014 12:10:00 AM</td>\n",
       "      <td>014XX W LEXINGTON ST</td>\n",
       "      <td>0460</td>\n",
       "      <td>BATTERY</td>\n",
       "      <td>SIMPLE</td>\n",
       "      <td>STREET</td>\n",
       "      <td>False</td>\n",
       "      <td>False</td>\n",
       "      <td>1231</td>\n",
       "      <td>12</td>\n",
       "      <td>25.0</td>\n",
       "      <td>28.0</td>\n",
       "      <td>08B</td>\n",
       "    </tr>\n",
       "  </tbody>\n",
       "</table>\n",
       "</div>"
      ],
      "text/plain": [
       "        ID Case Number                    Date                   Block  IUCR  \\\n",
       "0  9446824    HX100141  01/01/2014 02:00:00 AM     0000X W ILLINOIS ST  0460   \n",
       "1  9446748    HX100020  01/01/2014 12:00:00 AM     006XX N DEARBORN ST  0890   \n",
       "2  9446758    HX100030  01/01/2014 12:30:00 AM        052XX W RACE AVE  1310   \n",
       "3  9446760    HX100027  01/01/2014 12:30:00 AM  053XX W WELLINGTON AVE  0460   \n",
       "4  9446764    HX100054  01/01/2014 12:10:00 AM    014XX W LEXINGTON ST  0460   \n",
       "\n",
       "      Primary Type    Description Location Description  Arrest  Domestic  \\\n",
       "0          BATTERY         SIMPLE               STREET   False     False   \n",
       "1            THEFT  FROM BUILDING        BAR OR TAVERN   False     False   \n",
       "2  CRIMINAL DAMAGE    TO PROPERTY            APARTMENT   False     False   \n",
       "3          BATTERY         SIMPLE            APARTMENT    True     False   \n",
       "4          BATTERY         SIMPLE               STREET   False     False   \n",
       "\n",
       "   Beat  District  Ward  Community Area FBI Code  \n",
       "0  1831        18  42.0             8.0      08B  \n",
       "1  1832        18  42.0             8.0       06  \n",
       "2  1523        15  28.0            25.0       14  \n",
       "3  2514        25  31.0            19.0      08B  \n",
       "4  1231        12  25.0            28.0      08B  "
      ]
     },
     "execution_count": 10,
     "metadata": {},
     "output_type": "execute_result"
    }
   ],
   "source": [
    "data.head()"
   ]
  },
  {
   "cell_type": "code",
   "execution_count": 11,
   "metadata": {},
   "outputs": [
    {
     "data": {
      "text/plain": [
       "ID                        0\n",
       "Case Number               0\n",
       "Date                      0\n",
       "Block                     0\n",
       "IUCR                      0\n",
       "Primary Type              0\n",
       "Description               0\n",
       "Location Description    176\n",
       "Arrest                    0\n",
       "Domestic                  0\n",
       "Beat                      0\n",
       "District                  0\n",
       "Ward                      2\n",
       "Community Area            1\n",
       "FBI Code                  0\n",
       "dtype: int64"
      ]
     },
     "execution_count": 11,
     "metadata": {},
     "output_type": "execute_result"
    }
   ],
   "source": [
    "data.isnull().sum()"
   ]
  },
  {
   "cell_type": "markdown",
   "metadata": {},
   "source": [
    "Here we are dropping the columns like Location Description"
   ]
  },
  {
   "cell_type": "code",
   "execution_count": 25,
   "metadata": {},
   "outputs": [],
   "source": [
    "data=data.dropna()\n"
   ]
  },
  {
   "cell_type": "markdown",
   "metadata": {},
   "source": [
    "This shows that the data is cleaned and has no null or nan values."
   ]
  },
  {
   "cell_type": "code",
   "execution_count": 26,
   "metadata": {},
   "outputs": [
    {
     "data": {
      "text/plain": [
       "Case Number             0\n",
       "Date                    0\n",
       "Block                   0\n",
       "IUCR                    0\n",
       "Primary Type            0\n",
       "Description             0\n",
       "Location Description    0\n",
       "Arrest                  0\n",
       "Domestic                0\n",
       "Beat                    0\n",
       "District                0\n",
       "Ward                    0\n",
       "Community Area          0\n",
       "FBI Code                0\n",
       "dtype: int64"
      ]
     },
     "execution_count": 26,
     "metadata": {},
     "output_type": "execute_result"
    }
   ],
   "source": [
    "data.isnull().sum()"
   ]
  },
  {
   "cell_type": "code",
   "execution_count": 28,
   "metadata": {},
   "outputs": [
    {
     "data": {
      "text/plain": [
       "(274244, 14)"
      ]
     },
     "execution_count": 28,
     "metadata": {},
     "output_type": "execute_result"
    }
   ],
   "source": [
    "data.shape\n"
   ]
  },
  {
   "cell_type": "code",
   "execution_count": 29,
   "metadata": {},
   "outputs": [
    {
     "name": "stdout",
     "output_type": "stream",
     "text": [
      "<class 'pandas.core.frame.DataFrame'>\n",
      "Int64Index: 274244 entries, 9446824 to 10364473\n",
      "Data columns (total 14 columns):\n",
      "Case Number             274244 non-null object\n",
      "Date                    274244 non-null object\n",
      "Block                   274244 non-null object\n",
      "IUCR                    274244 non-null object\n",
      "Primary Type            274244 non-null object\n",
      "Description             274244 non-null object\n",
      "Location Description    274244 non-null object\n",
      "Arrest                  274244 non-null bool\n",
      "Domestic                274244 non-null bool\n",
      "Beat                    274244 non-null int64\n",
      "District                274244 non-null int64\n",
      "Ward                    274244 non-null float64\n",
      "Community Area          274244 non-null float64\n",
      "FBI Code                274244 non-null object\n",
      "dtypes: bool(2), float64(2), int64(2), object(8)\n",
      "memory usage: 19.4+ MB\n"
     ]
    }
   ],
   "source": [
    "data.info()"
   ]
  },
  {
   "cell_type": "markdown",
   "metadata": {},
   "source": [
    "Here we are trying to find out which time of the year (ie month) has the most crimes"
   ]
  },
  {
   "cell_type": "code",
   "execution_count": 31,
   "metadata": {},
   "outputs": [
    {
     "data": {
      "text/plain": [
       "ID\n",
       "9446824     01/01/2014 02:00:00 AM\n",
       "9446748     01/01/2014 12:00:00 AM\n",
       "9446758     01/01/2014 12:30:00 AM\n",
       "9446760     01/01/2014 12:30:00 AM\n",
       "9446764     01/01/2014 12:10:00 AM\n",
       "                     ...          \n",
       "10362481    08/15/2014 09:00:00 PM\n",
       "10362558    08/31/2014 03:00:00 AM\n",
       "10363233    02/20/2014 12:00:00 PM\n",
       "10363368    09/02/2014 09:00:00 AM\n",
       "10364473    12/04/2014 09:00:00 AM\n",
       "Name: Date, Length: 274244, dtype: object"
      ]
     },
     "execution_count": 31,
     "metadata": {},
     "output_type": "execute_result"
    }
   ],
   "source": [
    "data[\"Date\"]"
   ]
  },
  {
   "cell_type": "code",
   "execution_count": 34,
   "metadata": {},
   "outputs": [
    {
     "data": {
      "text/plain": [
       "ID\n",
       "9446824    2014-01-01 02:00:00\n",
       "9446748    2014-01-01 00:00:00\n",
       "9446758    2014-01-01 00:30:00\n",
       "9446760    2014-01-01 00:30:00\n",
       "9446764    2014-01-01 00:10:00\n",
       "                   ...        \n",
       "10362481   2014-08-15 21:00:00\n",
       "10362558   2014-08-31 03:00:00\n",
       "10363233   2014-02-20 12:00:00\n",
       "10363368   2014-09-02 09:00:00\n",
       "10364473   2014-12-04 09:00:00\n",
       "Name: Date, Length: 274244, dtype: datetime64[ns]"
      ]
     },
     "execution_count": 34,
     "metadata": {},
     "output_type": "execute_result"
    }
   ],
   "source": [
    "data[\"Date\"]"
   ]
  },
  {
   "cell_type": "code",
   "execution_count": 35,
   "metadata": {},
   "outputs": [
    {
     "data": {
      "text/plain": [
       "ID\n",
       "9446824      1\n",
       "9446748      1\n",
       "9446758      1\n",
       "9446760      1\n",
       "9446764      1\n",
       "            ..\n",
       "10362481     8\n",
       "10362558     8\n",
       "10363233     2\n",
       "10363368     9\n",
       "10364473    12\n",
       "Name: Date, Length: 274244, dtype: int64"
      ]
     },
     "execution_count": 35,
     "metadata": {},
     "output_type": "execute_result"
    }
   ],
   "source": [
    "data[\"Date\"].dt.month"
   ]
  },
  {
   "cell_type": "code",
   "execution_count": 36,
   "metadata": {},
   "outputs": [
    {
     "name": "stderr",
     "output_type": "stream",
     "text": [
      "c:\\users\\neha\\appdata\\local\\programs\\python\\python37-32\\lib\\site-packages\\ipykernel_launcher.py:1: SettingWithCopyWarning: \n",
      "A value is trying to be set on a copy of a slice from a DataFrame.\n",
      "Try using .loc[row_indexer,col_indexer] = value instead\n",
      "\n",
      "See the caveats in the documentation: http://pandas.pydata.org/pandas-docs/stable/user_guide/indexing.html#returning-a-view-versus-a-copy\n",
      "  \"\"\"Entry point for launching an IPython kernel.\n"
     ]
    },
    {
     "data": {
      "text/html": [
       "<div>\n",
       "<style scoped>\n",
       "    .dataframe tbody tr th:only-of-type {\n",
       "        vertical-align: middle;\n",
       "    }\n",
       "\n",
       "    .dataframe tbody tr th {\n",
       "        vertical-align: top;\n",
       "    }\n",
       "\n",
       "    .dataframe thead th {\n",
       "        text-align: right;\n",
       "    }\n",
       "</style>\n",
       "<table border=\"1\" class=\"dataframe\">\n",
       "  <thead>\n",
       "    <tr style=\"text-align: right;\">\n",
       "      <th></th>\n",
       "      <th>Case Number</th>\n",
       "      <th>Date</th>\n",
       "      <th>Block</th>\n",
       "      <th>IUCR</th>\n",
       "      <th>Primary Type</th>\n",
       "      <th>Description</th>\n",
       "      <th>Location Description</th>\n",
       "      <th>Arrest</th>\n",
       "      <th>Domestic</th>\n",
       "      <th>Beat</th>\n",
       "      <th>District</th>\n",
       "      <th>Ward</th>\n",
       "      <th>Community Area</th>\n",
       "      <th>FBI Code</th>\n",
       "      <th>month</th>\n",
       "    </tr>\n",
       "    <tr>\n",
       "      <th>ID</th>\n",
       "      <th></th>\n",
       "      <th></th>\n",
       "      <th></th>\n",
       "      <th></th>\n",
       "      <th></th>\n",
       "      <th></th>\n",
       "      <th></th>\n",
       "      <th></th>\n",
       "      <th></th>\n",
       "      <th></th>\n",
       "      <th></th>\n",
       "      <th></th>\n",
       "      <th></th>\n",
       "      <th></th>\n",
       "      <th></th>\n",
       "    </tr>\n",
       "  </thead>\n",
       "  <tbody>\n",
       "    <tr>\n",
       "      <th>9446824</th>\n",
       "      <td>HX100141</td>\n",
       "      <td>2014-01-01 02:00:00</td>\n",
       "      <td>0000X W ILLINOIS ST</td>\n",
       "      <td>0460</td>\n",
       "      <td>BATTERY</td>\n",
       "      <td>SIMPLE</td>\n",
       "      <td>STREET</td>\n",
       "      <td>False</td>\n",
       "      <td>False</td>\n",
       "      <td>1831</td>\n",
       "      <td>18</td>\n",
       "      <td>42.0</td>\n",
       "      <td>8.0</td>\n",
       "      <td>08B</td>\n",
       "      <td>1</td>\n",
       "    </tr>\n",
       "    <tr>\n",
       "      <th>9446748</th>\n",
       "      <td>HX100020</td>\n",
       "      <td>2014-01-01 00:00:00</td>\n",
       "      <td>006XX N DEARBORN ST</td>\n",
       "      <td>0890</td>\n",
       "      <td>THEFT</td>\n",
       "      <td>FROM BUILDING</td>\n",
       "      <td>BAR OR TAVERN</td>\n",
       "      <td>False</td>\n",
       "      <td>False</td>\n",
       "      <td>1832</td>\n",
       "      <td>18</td>\n",
       "      <td>42.0</td>\n",
       "      <td>8.0</td>\n",
       "      <td>06</td>\n",
       "      <td>1</td>\n",
       "    </tr>\n",
       "    <tr>\n",
       "      <th>9446758</th>\n",
       "      <td>HX100030</td>\n",
       "      <td>2014-01-01 00:30:00</td>\n",
       "      <td>052XX W RACE AVE</td>\n",
       "      <td>1310</td>\n",
       "      <td>CRIMINAL DAMAGE</td>\n",
       "      <td>TO PROPERTY</td>\n",
       "      <td>APARTMENT</td>\n",
       "      <td>False</td>\n",
       "      <td>False</td>\n",
       "      <td>1523</td>\n",
       "      <td>15</td>\n",
       "      <td>28.0</td>\n",
       "      <td>25.0</td>\n",
       "      <td>14</td>\n",
       "      <td>1</td>\n",
       "    </tr>\n",
       "    <tr>\n",
       "      <th>9446760</th>\n",
       "      <td>HX100027</td>\n",
       "      <td>2014-01-01 00:30:00</td>\n",
       "      <td>053XX W WELLINGTON AVE</td>\n",
       "      <td>0460</td>\n",
       "      <td>BATTERY</td>\n",
       "      <td>SIMPLE</td>\n",
       "      <td>APARTMENT</td>\n",
       "      <td>True</td>\n",
       "      <td>False</td>\n",
       "      <td>2514</td>\n",
       "      <td>25</td>\n",
       "      <td>31.0</td>\n",
       "      <td>19.0</td>\n",
       "      <td>08B</td>\n",
       "      <td>1</td>\n",
       "    </tr>\n",
       "    <tr>\n",
       "      <th>9446764</th>\n",
       "      <td>HX100054</td>\n",
       "      <td>2014-01-01 00:10:00</td>\n",
       "      <td>014XX W LEXINGTON ST</td>\n",
       "      <td>0460</td>\n",
       "      <td>BATTERY</td>\n",
       "      <td>SIMPLE</td>\n",
       "      <td>STREET</td>\n",
       "      <td>False</td>\n",
       "      <td>False</td>\n",
       "      <td>1231</td>\n",
       "      <td>12</td>\n",
       "      <td>25.0</td>\n",
       "      <td>28.0</td>\n",
       "      <td>08B</td>\n",
       "      <td>1</td>\n",
       "    </tr>\n",
       "    <tr>\n",
       "      <th>...</th>\n",
       "      <td>...</td>\n",
       "      <td>...</td>\n",
       "      <td>...</td>\n",
       "      <td>...</td>\n",
       "      <td>...</td>\n",
       "      <td>...</td>\n",
       "      <td>...</td>\n",
       "      <td>...</td>\n",
       "      <td>...</td>\n",
       "      <td>...</td>\n",
       "      <td>...</td>\n",
       "      <td>...</td>\n",
       "      <td>...</td>\n",
       "      <td>...</td>\n",
       "      <td>...</td>\n",
       "    </tr>\n",
       "    <tr>\n",
       "      <th>10362481</th>\n",
       "      <td>HY554205</td>\n",
       "      <td>2014-08-15 21:00:00</td>\n",
       "      <td>048XX N CLARK ST</td>\n",
       "      <td>1130</td>\n",
       "      <td>DECEPTIVE PRACTICE</td>\n",
       "      <td>FRAUD OR CONFIDENCE GAME</td>\n",
       "      <td>APARTMENT</td>\n",
       "      <td>False</td>\n",
       "      <td>False</td>\n",
       "      <td>2032</td>\n",
       "      <td>20</td>\n",
       "      <td>46.0</td>\n",
       "      <td>3.0</td>\n",
       "      <td>11</td>\n",
       "      <td>8</td>\n",
       "    </tr>\n",
       "    <tr>\n",
       "      <th>10362558</th>\n",
       "      <td>HY554336</td>\n",
       "      <td>2014-08-31 03:00:00</td>\n",
       "      <td>028XX W 19TH ST</td>\n",
       "      <td>0281</td>\n",
       "      <td>CRIM SEXUAL ASSAULT</td>\n",
       "      <td>NON-AGGRAVATED</td>\n",
       "      <td>HOSPITAL BUILDING/GROUNDS</td>\n",
       "      <td>False</td>\n",
       "      <td>False</td>\n",
       "      <td>1022</td>\n",
       "      <td>10</td>\n",
       "      <td>12.0</td>\n",
       "      <td>30.0</td>\n",
       "      <td>02</td>\n",
       "      <td>8</td>\n",
       "    </tr>\n",
       "    <tr>\n",
       "      <th>10363233</th>\n",
       "      <td>HY554972</td>\n",
       "      <td>2014-02-20 12:00:00</td>\n",
       "      <td>046XX W NORTH AVE</td>\n",
       "      <td>1153</td>\n",
       "      <td>DECEPTIVE PRACTICE</td>\n",
       "      <td>FINANCIAL IDENTITY THEFT OVER $ 300</td>\n",
       "      <td>OTHER</td>\n",
       "      <td>False</td>\n",
       "      <td>False</td>\n",
       "      <td>2533</td>\n",
       "      <td>25</td>\n",
       "      <td>37.0</td>\n",
       "      <td>25.0</td>\n",
       "      <td>11</td>\n",
       "      <td>2</td>\n",
       "    </tr>\n",
       "    <tr>\n",
       "      <th>10363368</th>\n",
       "      <td>HY555019</td>\n",
       "      <td>2014-09-02 09:00:00</td>\n",
       "      <td>047XX N BEACON ST</td>\n",
       "      <td>1153</td>\n",
       "      <td>DECEPTIVE PRACTICE</td>\n",
       "      <td>FINANCIAL IDENTITY THEFT OVER $ 300</td>\n",
       "      <td>APARTMENT</td>\n",
       "      <td>False</td>\n",
       "      <td>False</td>\n",
       "      <td>1913</td>\n",
       "      <td>19</td>\n",
       "      <td>46.0</td>\n",
       "      <td>3.0</td>\n",
       "      <td>11</td>\n",
       "      <td>9</td>\n",
       "    </tr>\n",
       "    <tr>\n",
       "      <th>10364473</th>\n",
       "      <td>HY556366</td>\n",
       "      <td>2014-12-04 09:00:00</td>\n",
       "      <td>012XX W LUNT AVE</td>\n",
       "      <td>1153</td>\n",
       "      <td>DECEPTIVE PRACTICE</td>\n",
       "      <td>FINANCIAL IDENTITY THEFT OVER $ 300</td>\n",
       "      <td>APARTMENT</td>\n",
       "      <td>False</td>\n",
       "      <td>False</td>\n",
       "      <td>2431</td>\n",
       "      <td>24</td>\n",
       "      <td>49.0</td>\n",
       "      <td>1.0</td>\n",
       "      <td>11</td>\n",
       "      <td>12</td>\n",
       "    </tr>\n",
       "  </tbody>\n",
       "</table>\n",
       "<p>274244 rows × 15 columns</p>\n",
       "</div>"
      ],
      "text/plain": [
       "         Case Number                Date                   Block  IUCR  \\\n",
       "ID                                                                       \n",
       "9446824     HX100141 2014-01-01 02:00:00     0000X W ILLINOIS ST  0460   \n",
       "9446748     HX100020 2014-01-01 00:00:00     006XX N DEARBORN ST  0890   \n",
       "9446758     HX100030 2014-01-01 00:30:00        052XX W RACE AVE  1310   \n",
       "9446760     HX100027 2014-01-01 00:30:00  053XX W WELLINGTON AVE  0460   \n",
       "9446764     HX100054 2014-01-01 00:10:00    014XX W LEXINGTON ST  0460   \n",
       "...              ...                 ...                     ...   ...   \n",
       "10362481    HY554205 2014-08-15 21:00:00        048XX N CLARK ST  1130   \n",
       "10362558    HY554336 2014-08-31 03:00:00         028XX W 19TH ST  0281   \n",
       "10363233    HY554972 2014-02-20 12:00:00       046XX W NORTH AVE  1153   \n",
       "10363368    HY555019 2014-09-02 09:00:00       047XX N BEACON ST  1153   \n",
       "10364473    HY556366 2014-12-04 09:00:00        012XX W LUNT AVE  1153   \n",
       "\n",
       "                 Primary Type                          Description  \\\n",
       "ID                                                                   \n",
       "9446824               BATTERY                               SIMPLE   \n",
       "9446748                 THEFT                        FROM BUILDING   \n",
       "9446758       CRIMINAL DAMAGE                          TO PROPERTY   \n",
       "9446760               BATTERY                               SIMPLE   \n",
       "9446764               BATTERY                               SIMPLE   \n",
       "...                       ...                                  ...   \n",
       "10362481   DECEPTIVE PRACTICE             FRAUD OR CONFIDENCE GAME   \n",
       "10362558  CRIM SEXUAL ASSAULT                       NON-AGGRAVATED   \n",
       "10363233   DECEPTIVE PRACTICE  FINANCIAL IDENTITY THEFT OVER $ 300   \n",
       "10363368   DECEPTIVE PRACTICE  FINANCIAL IDENTITY THEFT OVER $ 300   \n",
       "10364473   DECEPTIVE PRACTICE  FINANCIAL IDENTITY THEFT OVER $ 300   \n",
       "\n",
       "               Location Description  Arrest  Domestic  Beat  District  Ward  \\\n",
       "ID                                                                            \n",
       "9446824                      STREET   False     False  1831        18  42.0   \n",
       "9446748               BAR OR TAVERN   False     False  1832        18  42.0   \n",
       "9446758                   APARTMENT   False     False  1523        15  28.0   \n",
       "9446760                   APARTMENT    True     False  2514        25  31.0   \n",
       "9446764                      STREET   False     False  1231        12  25.0   \n",
       "...                             ...     ...       ...   ...       ...   ...   \n",
       "10362481                  APARTMENT   False     False  2032        20  46.0   \n",
       "10362558  HOSPITAL BUILDING/GROUNDS   False     False  1022        10  12.0   \n",
       "10363233                      OTHER   False     False  2533        25  37.0   \n",
       "10363368                  APARTMENT   False     False  1913        19  46.0   \n",
       "10364473                  APARTMENT   False     False  2431        24  49.0   \n",
       "\n",
       "          Community Area FBI Code  month  \n",
       "ID                                        \n",
       "9446824              8.0      08B      1  \n",
       "9446748              8.0       06      1  \n",
       "9446758             25.0       14      1  \n",
       "9446760             19.0      08B      1  \n",
       "9446764             28.0      08B      1  \n",
       "...                  ...      ...    ...  \n",
       "10362481             3.0       11      8  \n",
       "10362558            30.0       02      8  \n",
       "10363233            25.0       11      2  \n",
       "10363368             3.0       11      9  \n",
       "10364473             1.0       11     12  \n",
       "\n",
       "[274244 rows x 15 columns]"
      ]
     },
     "execution_count": 36,
     "metadata": {},
     "output_type": "execute_result"
    }
   ],
   "source": [
    "data[\"month\"] = data[\"Date\"].dt.month\n",
    "data"
   ]
  },
  {
   "cell_type": "code",
   "execution_count": 37,
   "metadata": {},
   "outputs": [
    {
     "data": {
      "text/plain": [
       "ID\n",
       "9446824      1\n",
       "9446748      1\n",
       "9446758      1\n",
       "9446760      1\n",
       "9446764      1\n",
       "            ..\n",
       "10362481     8\n",
       "10362558     8\n",
       "10363233     2\n",
       "10363368     9\n",
       "10364473    12\n",
       "Name: month, Length: 274244, dtype: int64"
      ]
     },
     "execution_count": 37,
     "metadata": {},
     "output_type": "execute_result"
    }
   ],
   "source": [
    "data[\"month\"]"
   ]
  },
  {
   "cell_type": "markdown",
   "metadata": {},
   "source": [
    "Now we have added a new column into our dataset ie month which will help us find out the max crimes that took place"
   ]
  },
  {
   "cell_type": "code",
   "execution_count": 38,
   "metadata": {},
   "outputs": [
    {
     "name": "stdout",
     "output_type": "stream",
     "text": [
      "<class 'pandas.core.frame.DataFrame'>\n",
      "Int64Index: 274244 entries, 9446824 to 10364473\n",
      "Data columns (total 15 columns):\n",
      "Case Number             274244 non-null object\n",
      "Date                    274244 non-null datetime64[ns]\n",
      "Block                   274244 non-null object\n",
      "IUCR                    274244 non-null object\n",
      "Primary Type            274244 non-null object\n",
      "Description             274244 non-null object\n",
      "Location Description    274244 non-null object\n",
      "Arrest                  274244 non-null bool\n",
      "Domestic                274244 non-null bool\n",
      "Beat                    274244 non-null int64\n",
      "District                274244 non-null int64\n",
      "Ward                    274244 non-null float64\n",
      "Community Area          274244 non-null float64\n",
      "FBI Code                274244 non-null object\n",
      "month                   274244 non-null int64\n",
      "dtypes: bool(2), datetime64[ns](1), float64(2), int64(3), object(7)\n",
      "memory usage: 22.5+ MB\n"
     ]
    }
   ],
   "source": [
    "data.info()"
   ]
  },
  {
   "cell_type": "markdown",
   "metadata": {},
   "source": [
    "Importing few more libraries for plotting the graphs and drawings conclusions"
   ]
  },
  {
   "cell_type": "code",
   "execution_count": 51,
   "metadata": {},
   "outputs": [],
   "source": [
    "import pandas as pd \n",
    "import matplotlib as mlp\n",
    "import matplotlib.pyplot as plt\n",
    "import os"
   ]
  },
  {
   "cell_type": "code",
   "execution_count": 88,
   "metadata": {},
   "outputs": [
    {
     "name": "stdout",
     "output_type": "stream",
     "text": [
      "{1: 0, 2: 0, 3: 0, 4: 0, 5: 0, 6: 0, 7: 0, 8: 0, 9: 0, 10: 0, 11: 0}\n",
      "0\n",
      "{1: 19848, 2: 17965, 3: 22096, 4: 22822, 5: 24778, 6: 25288, 7: 26434, 8: 25791, 9: 23798, 10: 23897, 11: 20660}\n",
      "253377\n"
     ]
    }
   ],
   "source": [
    "months={}\n",
    "for i in range(1,13):\n",
    "    months[i]=0\n",
    "print(months)\n",
    "for i in data.index:\n",
    "    if (data[\"month\"][i] in months):\n",
    "        months[data[\"month\"][i]] = months[data[\"month\"][i]]+1\n",
    "print(months)\n",
    "print(sum(months.values()))"
   ]
  },
  {
   "cell_type": "markdown",
   "metadata": {},
   "source": [
    "By plotting the line grap we can infer that the most number of crimes took place in the month of JULY "
   ]
  },
  {
   "cell_type": "code",
   "execution_count": 89,
   "metadata": {},
   "outputs": [
    {
     "data": {
      "text/plain": [
       "Text(0, 0.5, 'number of homicides')"
      ]
     },
     "execution_count": 89,
     "metadata": {},
     "output_type": "execute_result"
    },
    {
     "data": {
      "image/png": "[encoded data removed]",
      "text/plain": [
       "<Figure size 432x288 with 1 Axes>"
      ]
     },
     "metadata": {
      "needs_background": "light"
     },
     "output_type": "display_data"
    }
   ],
   "source": [
    "x_axis=list(months.keys())\n",
    "y_axis=list(months.values())\n",
    "plt.plot(x_axis, y_axis, color='green', linestyle='dashed', linewidth = 3, \n",
    "         marker='o', markerfacecolor='blue', markersize=6)\n",
    "plt.xlabel(\"month\")\n",
    "plt.ylabel(\"number of homicides\")"
   ]
  },
  {
   "cell_type": "code",
   "execution_count": 55,
   "metadata": {},
   "outputs": [
    {
     "data": {
      "text/plain": [
       "[<matplotlib.lines.Line2D at 0x103ece10>]"
      ]
     },
     "execution_count": 55,
     "metadata": {},
     "output_type": "execute_result"
    },
    {
     "data": {
      "image/png": "[encoded data removed]",
      "text/plain": [
       "<Figure size 432x288 with 1 Axes>"
      ]
     },
     "metadata": {
      "needs_background": "light"
     },
     "output_type": "display_data"
    }
   ],
   "source": [
    "plt.plot(data.month)\n"
   ]
  }
 ],
 "metadata": {
  "kernelspec": {
   "display_name": "Python 3",
   "language": "python",
   "name": "python3"
  },
  "language_info": {
   "codemirror_mode": {
    "name": "ipython",
    "version": 3
   },
   "file_extension": ".py",
   "mimetype": "text/x-python",
   "name": "python",
   "nbconvert_exporter": "python",
   "pygments_lexer": "ipython3",
   "version": "3.7.4"
  }
 },
 "nbformat": 4,
 "nbformat_minor": 4
}
